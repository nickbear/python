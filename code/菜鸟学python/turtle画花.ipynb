{
 "cells": [
  {
   "cell_type": "code",
   "execution_count": 1,
   "metadata": {},
   "outputs": [],
   "source": [
    "import turtle"
   ]
  },
  {
   "cell_type": "code",
   "execution_count": null,
   "metadata": {
    "scrolled": true
   },
   "outputs": [],
   "source": [
    "def draw_diamond(turt):\n",
    "    for i in range(1,3):\n",
    "        turt.forward(100)#向前走100步\n",
    "        turt.right(45)#然后海龟头向右转45度\n",
    "        turt.forward(100)#继续向前走100步\n",
    "        turt.right(135)#然后有向右转135度\n",
    "def draw_art():\n",
    "    window = turtle.Screen()#获得一个窗口句柄\n",
    "    window.bgcolor(\"blue\")#把背景设为蓝色\n",
    "    brad = turtle.Turtle()#创建一个Turtle的实例\n",
    "    brad.shape(\"turtle\")#形状是一个海龟除了画海龟还可以画箭头，圆圈等等\n",
    "    brad.color(\"orange\")#颜色是橙色\n",
    "    brad.speed(\"fast\")#画的速度是快速\n",
    "    \n",
    "    for i in range(1,37):#循环36次\n",
    "        draw_diamond(brad)#单画一个菱形也就是花瓣\n",
    "        brad.right(10)#旋转10度\n",
    "    brad.right(90)#当花全部花完一周后，把海龟的头向右转90度\n",
    "    brad.forward(300)#花一根长的线\n",
    "    window.exitonclick()#当点击一下窗口会自动关闭\n",
    "draw_art()"
   ]
  },
  {
   "cell_type": "code",
   "execution_count": null,
   "metadata": {},
   "outputs": [],
   "source": []
  }
 ],
 "metadata": {
  "kernelspec": {
   "display_name": "Python 3",
   "language": "python",
   "name": "python3"
  },
  "language_info": {
   "codemirror_mode": {
    "name": "ipython",
    "version": 3
   },
   "file_extension": ".py",
   "mimetype": "text/x-python",
   "name": "python",
   "nbconvert_exporter": "python",
   "pygments_lexer": "ipython3",
   "version": "3.7.1"
  }
 },
 "nbformat": 4,
 "nbformat_minor": 2
}
