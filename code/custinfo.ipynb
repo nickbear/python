{
 "cells": [
  {
   "cell_type": "code",
   "execution_count": 104,
   "metadata": {},
   "outputs": [],
   "source": [
    "import pandas as pd\n",
    "import matplotlib.pyplot as plt\n",
    "import matplotlib\n",
    "import datetime\n",
    "import numpy as np"
   ]
  },
  {
   "cell_type": "code",
   "execution_count": 3,
   "metadata": {},
   "outputs": [
    {
     "name": "stderr",
     "output_type": "stream",
     "text": [
      "d:\\ProgramData\\Anaconda3\\lib\\site-packages\\IPython\\core\\interactiveshell.py:3020: DtypeWarning: Columns (3,7,8,9,36,43,44,49,55,61,62,65,66,69,79,98,99,113,123,124,125,126,127,128,129,130,131,132,133,139,140,141,142,143,144,145,146,147) have mixed types. Specify dtype option on import or set low_memory=False.\n",
      "  interactivity=interactivity, compiler=compiler, result=result)\n"
     ]
    }
   ],
   "source": [
    "df0 = pd.read_csv('TCUSTINFO.csv',encoding = \"gbk\") #中文时采用"
   ]
  },
  {
   "cell_type": "code",
   "execution_count": 8,
   "metadata": {},
   "outputs": [
    {
     "data": {
      "text/plain": [
       "(153772, 158)"
      ]
     },
     "execution_count": 8,
     "metadata": {},
     "output_type": "execute_result"
    }
   ],
   "source": [
    "df0.shape"
   ]
  },
  {
   "cell_type": "code",
   "execution_count": 9,
   "metadata": {},
   "outputs": [
    {
     "data": {
      "text/plain": [
       "Index(['VC_CUSTNO', 'C_CUSTTYPE', 'VC_CUSTOMNAME', 'VC_SHORTNAME',\n",
       "       'C_IDENTITYTYPE', 'VC_IDENTITYNO', 'C_MODIFYFLAG', 'VC_INSTREPRNAME',\n",
       "       'C_INSTREPRTYPE', 'VC_INSTREPRNO',\n",
       "       ...\n",
       "       'VC_CAPITALPROPERTY', 'VC_EQUITYCONTROLCOMPOSITION',\n",
       "       'C_CUSTINFOCOMPLETE', 'C_CUSTFUNDTIMELIMITFLAG', 'C_SCHGFLAG',\n",
       "       'VC_SCEFFECTDATE', 'VC_SCEFFECTENDDATE', 'VC_PRODUCTID',\n",
       "       'C_NONPERCUSTTYPE', 'VC_VOCATIONDETAIL'],\n",
       "      dtype='object', length=158)"
      ]
     },
     "execution_count": 9,
     "metadata": {},
     "output_type": "execute_result"
    }
   ],
   "source": [
    "df0.columns"
   ]
  },
  {
   "cell_type": "code",
   "execution_count": 11,
   "metadata": {},
   "outputs": [],
   "source": [
    "df1 = df0[df0.C_CUSTTYPE == 1]"
   ]
  },
  {
   "cell_type": "code",
   "execution_count": 18,
   "metadata": {},
   "outputs": [
    {
     "data": {
      "text/plain": [
       "(152557, 158)"
      ]
     },
     "execution_count": 18,
     "metadata": {},
     "output_type": "execute_result"
    }
   ],
   "source": [
    "df1.shape"
   ]
  },
  {
   "cell_type": "code",
   "execution_count": 21,
   "metadata": {},
   "outputs": [],
   "source": [
    "df2 = df1.dropna(axis=1,how='all') #去掉全部为空的列"
   ]
  },
  {
   "cell_type": "code",
   "execution_count": 22,
   "metadata": {},
   "outputs": [
    {
     "data": {
      "text/plain": [
       "(152557, 60)"
      ]
     },
     "execution_count": 22,
     "metadata": {},
     "output_type": "execute_result"
    }
   ],
   "source": [
    "df2.shape"
   ]
  },
  {
   "cell_type": "code",
   "execution_count": 23,
   "metadata": {},
   "outputs": [
    {
     "data": {
      "text/plain": [
       "Index(['VC_CUSTNO', 'C_CUSTTYPE', 'VC_CUSTOMNAME', 'C_IDENTITYTYPE',\n",
       "       'VC_IDENTITYNO', 'C_MODIFYFLAG', 'C_VOCATION', 'L_INCOME', 'C_SEX',\n",
       "       'VC_BIRTHDAY', 'C_INVEST', 'C_STATE', 'VC_SPELL', 'C_WORKTIME',\n",
       "       'C_INVESTEXP', 'VC_QUESTIONARYDATE', 'VC_NATIONALITY', 'VC_IDVALIDATE',\n",
       "       'VC_HOLDINGNAME', 'VC_AMLEXPLAIN', 'VC_REGADDRESS', 'C_SELFCLEARPASSWD',\n",
       "       'EN_REGISTCAPITAL', 'VC_OPENDATE', 'VC_LASTDATE', 'VC_FULLCUSTOMNAME',\n",
       "       'C_NETSHOWDESTROYACCO', 'VC_IDENTITYNOEIGHTEEN', 'C_INCOMESOURCE',\n",
       "       'C_NORTHAMERICAN', 'C_ACUTALBUSINRANGE', 'VC_ACCOUNTHOLDER',\n",
       "       'VC_CUSTCONSIGNEE', 'EN_CUSTFUNDTIMELIMIT', 'C_PUBPROFESSIONVALIDDATE',\n",
       "       'C_PUBPROFESSIONSUBTYPE', 'C_PUBPROFESSIONFLAG', 'C_PUBHGFLAG',\n",
       "       'VC_BADINTEGRITY', 'VC_ORGANIZATIONNOBEGINDATE', 'VC_TAXBEGINDATE',\n",
       "       'VC_HOLDINGIDVALIBEGINDATE', 'VC_INSTREPRNOBEGINDATE',\n",
       "       'VC_INSTREPRPHONE', 'VC_CERTIFICATEUNIT', 'VC_BUSINMODE',\n",
       "       'C_LISTEDCOMPANYMODE', 'C_STATEOWNEDENTERPRISE', 'C_MONEYTYPE',\n",
       "       'VC_SPECINFO', 'C_BENEFICIARYIDTYPE', 'VC_BENEFICIARYIDNO',\n",
       "       'VC_BENEFICIARYIDVALIDATE', 'C_HOLDIDENTITYTYPE', 'VC_HOLDIDENTITYNO',\n",
       "       'VC_HOLDIDVALIDATE', 'C_BENEFICIARYCUSTTYPE', 'C_HOLDIDENTITYCUSTTYPE',\n",
       "       'C_CUSTINFOCOMPLETE', 'C_CUSTFUNDTIMELIMITFLAG'],\n",
       "      dtype='object')"
      ]
     },
     "execution_count": 23,
     "metadata": {},
     "output_type": "execute_result"
    }
   ],
   "source": [
    "df2.columns"
   ]
  },
  {
   "cell_type": "code",
   "execution_count": 49,
   "metadata": {},
   "outputs": [
    {
     "data": {
      "text/plain": [
       "0    152477\n",
       "6        80\n",
       "Name: C_STATE, dtype: int64"
      ]
     },
     "execution_count": 49,
     "metadata": {},
     "output_type": "execute_result"
    }
   ],
   "source": [
    "df2.C_STATE.value_counts()"
   ]
  },
  {
   "cell_type": "code",
   "execution_count": 95,
   "metadata": {},
   "outputs": [
    {
     "data": {
      "text/plain": [
       "1"
      ]
     },
     "execution_count": 95,
     "metadata": {},
     "output_type": "execute_result"
    }
   ],
   "source": [
    "df2.C_INVEST.nunique(dropna=True)"
   ]
  },
  {
   "cell_type": "code",
   "execution_count": 40,
   "metadata": {},
   "outputs": [],
   "source": [
    "df3 = df2.drop(['VC_CUSTOMNAME','C_IDENTITYTYPE','L_INCOME','VC_BIRTHDAY'],axis=1) #去掉某些列"
   ]
  },
  {
   "cell_type": "code",
   "execution_count": 41,
   "metadata": {},
   "outputs": [
    {
     "data": {
      "text/html": [
       "<div>\n",
       "<style scoped>\n",
       "    .dataframe tbody tr th:only-of-type {\n",
       "        vertical-align: middle;\n",
       "    }\n",
       "\n",
       "    .dataframe tbody tr th {\n",
       "        vertical-align: top;\n",
       "    }\n",
       "\n",
       "    .dataframe thead th {\n",
       "        text-align: right;\n",
       "    }\n",
       "</style>\n",
       "<table border=\"1\" class=\"dataframe\">\n",
       "  <thead>\n",
       "    <tr style=\"text-align: right;\">\n",
       "      <th></th>\n",
       "      <th>VC_CUSTNO</th>\n",
       "      <th>C_CUSTTYPE</th>\n",
       "      <th>VC_IDENTITYNO</th>\n",
       "      <th>C_MODIFYFLAG</th>\n",
       "      <th>C_VOCATION</th>\n",
       "      <th>C_SEX</th>\n",
       "      <th>C_INVEST</th>\n",
       "      <th>C_STATE</th>\n",
       "      <th>VC_SPELL</th>\n",
       "      <th>C_WORKTIME</th>\n",
       "      <th>...</th>\n",
       "      <th>C_BENEFICIARYIDTYPE</th>\n",
       "      <th>VC_BENEFICIARYIDNO</th>\n",
       "      <th>VC_BENEFICIARYIDVALIDATE</th>\n",
       "      <th>C_HOLDIDENTITYTYPE</th>\n",
       "      <th>VC_HOLDIDENTITYNO</th>\n",
       "      <th>VC_HOLDIDVALIDATE</th>\n",
       "      <th>C_BENEFICIARYCUSTTYPE</th>\n",
       "      <th>C_HOLDIDENTITYCUSTTYPE</th>\n",
       "      <th>C_CUSTINFOCOMPLETE</th>\n",
       "      <th>C_CUSTFUNDTIMELIMITFLAG</th>\n",
       "    </tr>\n",
       "  </thead>\n",
       "  <tbody>\n",
       "    <tr>\n",
       "      <th>0</th>\n",
       "      <td>7068</td>\n",
       "      <td>1</td>\n",
       "      <td>320921198303042032</td>\n",
       "      <td>0</td>\n",
       "      <td>NaN</td>\n",
       "      <td>1.0</td>\n",
       "      <td>NaN</td>\n",
       "      <td>0</td>\n",
       "      <td>NaN</td>\n",
       "      <td>NaN</td>\n",
       "      <td>...</td>\n",
       "      <td>NaN</td>\n",
       "      <td>NaN</td>\n",
       "      <td>NaN</td>\n",
       "      <td>NaN</td>\n",
       "      <td>NaN</td>\n",
       "      <td>NaN</td>\n",
       "      <td>NaN</td>\n",
       "      <td>NaN</td>\n",
       "      <td>NaN</td>\n",
       "      <td>NaN</td>\n",
       "    </tr>\n",
       "    <tr>\n",
       "      <th>1</th>\n",
       "      <td>7078</td>\n",
       "      <td>1</td>\n",
       "      <td>142730196805050010</td>\n",
       "      <td>1</td>\n",
       "      <td>3.0</td>\n",
       "      <td>1.0</td>\n",
       "      <td>NaN</td>\n",
       "      <td>0</td>\n",
       "      <td>ghw</td>\n",
       "      <td>NaN</td>\n",
       "      <td>...</td>\n",
       "      <td>NaN</td>\n",
       "      <td>NaN</td>\n",
       "      <td>NaN</td>\n",
       "      <td>NaN</td>\n",
       "      <td>NaN</td>\n",
       "      <td>NaN</td>\n",
       "      <td>NaN</td>\n",
       "      <td>NaN</td>\n",
       "      <td>1.0</td>\n",
       "      <td></td>\n",
       "    </tr>\n",
       "    <tr>\n",
       "      <th>2</th>\n",
       "      <td>7088</td>\n",
       "      <td>1</td>\n",
       "      <td>510184198207162680</td>\n",
       "      <td>1</td>\n",
       "      <td>3.0</td>\n",
       "      <td>0.0</td>\n",
       "      <td>NaN</td>\n",
       "      <td>0</td>\n",
       "      <td>tx</td>\n",
       "      <td>NaN</td>\n",
       "      <td>...</td>\n",
       "      <td>0</td>\n",
       "      <td>NaN</td>\n",
       "      <td>NaN</td>\n",
       "      <td>0</td>\n",
       "      <td>NaN</td>\n",
       "      <td>NaN</td>\n",
       "      <td>NaN</td>\n",
       "      <td>NaN</td>\n",
       "      <td>1.0</td>\n",
       "      <td>NaN</td>\n",
       "    </tr>\n",
       "    <tr>\n",
       "      <th>3</th>\n",
       "      <td>13538</td>\n",
       "      <td>1</td>\n",
       "      <td>610302198808050537</td>\n",
       "      <td>1</td>\n",
       "      <td>3.0</td>\n",
       "      <td>1.0</td>\n",
       "      <td>NaN</td>\n",
       "      <td>0</td>\n",
       "      <td>wmc</td>\n",
       "      <td>NaN</td>\n",
       "      <td>...</td>\n",
       "      <td>NaN</td>\n",
       "      <td>NaN</td>\n",
       "      <td>NaN</td>\n",
       "      <td>NaN</td>\n",
       "      <td>NaN</td>\n",
       "      <td>NaN</td>\n",
       "      <td>NaN</td>\n",
       "      <td>NaN</td>\n",
       "      <td>1.0</td>\n",
       "      <td>NaN</td>\n",
       "    </tr>\n",
       "    <tr>\n",
       "      <th>4</th>\n",
       "      <td>13548</td>\n",
       "      <td>1</td>\n",
       "      <td>320882198003201617</td>\n",
       "      <td>1</td>\n",
       "      <td>1.0</td>\n",
       "      <td>1.0</td>\n",
       "      <td>NaN</td>\n",
       "      <td>0</td>\n",
       "      <td>cd</td>\n",
       "      <td>NaN</td>\n",
       "      <td>...</td>\n",
       "      <td>NaN</td>\n",
       "      <td>NaN</td>\n",
       "      <td>NaN</td>\n",
       "      <td>NaN</td>\n",
       "      <td>NaN</td>\n",
       "      <td>NaN</td>\n",
       "      <td>NaN</td>\n",
       "      <td>NaN</td>\n",
       "      <td>NaN</td>\n",
       "      <td>NaN</td>\n",
       "    </tr>\n",
       "  </tbody>\n",
       "</table>\n",
       "<p>5 rows × 56 columns</p>\n",
       "</div>"
      ],
      "text/plain": [
       "   VC_CUSTNO  C_CUSTTYPE       VC_IDENTITYNO  C_MODIFYFLAG  C_VOCATION  C_SEX  \\\n",
       "0       7068           1  320921198303042032             0         NaN    1.0   \n",
       "1       7078           1  142730196805050010             1         3.0    1.0   \n",
       "2       7088           1  510184198207162680             1         3.0    0.0   \n",
       "3      13538           1  610302198808050537             1         3.0    1.0   \n",
       "4      13548           1  320882198003201617             1         1.0    1.0   \n",
       "\n",
       "   C_INVEST  C_STATE VC_SPELL  C_WORKTIME           ...             \\\n",
       "0       NaN        0      NaN         NaN           ...              \n",
       "1       NaN        0      ghw         NaN           ...              \n",
       "2       NaN        0       tx         NaN           ...              \n",
       "3       NaN        0      wmc         NaN           ...              \n",
       "4       NaN        0       cd         NaN           ...              \n",
       "\n",
       "   C_BENEFICIARYIDTYPE VC_BENEFICIARYIDNO  VC_BENEFICIARYIDVALIDATE  \\\n",
       "0                  NaN                NaN                       NaN   \n",
       "1                  NaN                NaN                       NaN   \n",
       "2                    0                NaN                       NaN   \n",
       "3                  NaN                NaN                       NaN   \n",
       "4                  NaN                NaN                       NaN   \n",
       "\n",
       "   C_HOLDIDENTITYTYPE VC_HOLDIDENTITYNO VC_HOLDIDVALIDATE  \\\n",
       "0                 NaN               NaN               NaN   \n",
       "1                 NaN               NaN               NaN   \n",
       "2                   0               NaN               NaN   \n",
       "3                 NaN               NaN               NaN   \n",
       "4                 NaN               NaN               NaN   \n",
       "\n",
       "  C_BENEFICIARYCUSTTYPE C_HOLDIDENTITYCUSTTYPE  C_CUSTINFOCOMPLETE  \\\n",
       "0                   NaN                    NaN                 NaN   \n",
       "1                   NaN                    NaN                 1.0   \n",
       "2                   NaN                    NaN                 1.0   \n",
       "3                   NaN                    NaN                 1.0   \n",
       "4                   NaN                    NaN                 NaN   \n",
       "\n",
       "   C_CUSTFUNDTIMELIMITFLAG  \n",
       "0                      NaN  \n",
       "1                           \n",
       "2                      NaN  \n",
       "3                      NaN  \n",
       "4                      NaN  \n",
       "\n",
       "[5 rows x 56 columns]"
      ]
     },
     "execution_count": 41,
     "metadata": {},
     "output_type": "execute_result"
    }
   ],
   "source": [
    "df3.head()"
   ]
  },
  {
   "cell_type": "markdown",
   "metadata": {},
   "source": [
    "#### 性别比"
   ]
  },
  {
   "cell_type": "code",
   "execution_count": 138,
   "metadata": {},
   "outputs": [
    {
     "data": {
      "text/plain": [
       "Text(0.5, 1.0, '用户性别比')"
      ]
     },
     "execution_count": 138,
     "metadata": {},
     "output_type": "execute_result"
    },
    {
     "data": {
      "image/png": "[encoded data removed]",
      "text/plain": [
       "<Figure size 432x288 with 1 Axes>"
      ]
     },
     "metadata": {},
     "output_type": "display_data"
    }
   ],
   "source": [
    "# 设置matplotlib正常显示中文和负号\n",
    "matplotlib.rcParams['font.sans-serif']=['SimHei']   # 用黑体显示中文\n",
    "matplotlib.rcParams['axes.unicode_minus']=False     # 正常显示负号\n",
    "\n",
    "label_list = [\"女性\", \"男性\"]    #  0 女性 1 男性\n",
    "size = df3.groupby(['C_SEX']).size()    # 各部分大小\n",
    "color = [\"red\", \"blue\"]     # 各部分颜色\n",
    "explode = [0,0.05]   # 各部分突出值\n",
    "\n",
    "#labeldistance，文本的位置离远点有多远，1.1指1.1倍半径的位置\n",
    "#autopct，圆里面的文本格式，%3.1f%%表示小数有三位，整数有一位的浮点数\n",
    "#shadow，饼是否有阴影\n",
    "#startangle，起始角度，0，表示从0开始逆时针转，为第一块。一般选择从90度开始比较好看\n",
    "#pctdistance，百分比的text离圆心的距离\n",
    "#patches, l_texts, p_texts，为了得到饼图的返回值，p_texts饼图内部文本的，l_texts饼图外label的文本\n",
    "patches, l_text, p_text = plt.pie(size, explode=explode, colors=color, labels=label_list, labeldistance=1.1, \\\n",
    "                                  autopct=\"%1.2f%%\", shadow=False, startangle=90, pctdistance=0.6)\n",
    "#改变文本的大小\n",
    "#方法是把每一个text遍历。调用set_size方法设置它的属性\n",
    "# for t in l_text:\n",
    "#     t.set_size(20)\n",
    "for t in p_text:\n",
    "    t.set_size(10)\n",
    "\n",
    "plt.axis(\"equal\")    # 设置横轴和纵轴大小相等，这样饼才是圆的\n",
    "plt.legend()\n",
    "plt.title('用户性别比')"
   ]
  },
  {
   "cell_type": "markdown",
   "metadata": {},
   "source": [
    "#### 职业是否填写比例"
   ]
  },
  {
   "cell_type": "code",
   "execution_count": 137,
   "metadata": {},
   "outputs": [
    {
     "data": {
      "text/plain": [
       "Text(0.5, 1.0, '职业填写比例')"
      ]
     },
     "execution_count": 137,
     "metadata": {},
     "output_type": "execute_result"
    },
    {
     "data": {
      "image/png": "[encoded data removed]",
      "text/plain": [
       "<Figure size 432x288 with 1 Axes>"
      ]
     },
     "metadata": {},
     "output_type": "display_data"
    }
   ],
   "source": [
    "label_list=['未填写','填写']\n",
    "size = (df3.C_VOCATION.isna() == True).value_counts()\n",
    "color = [\"red\", \"green\"]     # 各部分颜色\n",
    "explode = [0,0.05]   # 各部分突出值\n",
    "patches, l_text, p_text = plt.pie(size, explode=explode, colors=color, labels=label_list, labeldistance=1.1, \\\n",
    "                                  autopct=\"%1.2f%%\", shadow=False, startangle=90, pctdistance=0.6)\n",
    "plt.axis(\"equal\")    # 设置横轴和纵轴大小相等，这样饼才是圆的\n",
    "plt.legend()\n",
    "plt.title('职业填写比例')"
   ]
  },
  {
   "cell_type": "markdown",
   "metadata": {},
   "source": [
    "#### 职业分布图"
   ]
  },
  {
   "cell_type": "code",
   "execution_count": 32,
   "metadata": {},
   "outputs": [
    {
     "data": {
      "image/png": "[encoded data removed]",
      "text/plain": [
       "<Figure size 432x288 with 1 Axes>"
      ]
     },
     "metadata": {
      "needs_background": "light"
     },
     "output_type": "display_data"
    }
   ],
   "source": [
    "# 1：政府部门 2：教科文 3：金融 4：商贸 5：房地产 6：制造业 7：自由职业 8：其他 9：事业单位 10：国有企业\n",
    "fig, ax = plt.subplots()\n",
    "num_cols = ['政府部门','教科文','金融','商贸','房地产','制造业','自由职业','其他','事业单位','国有企业']\n",
    "positions = range(0,10)\n",
    "heights = df3.groupby(['C_VOCATION']).size()\n",
    "ax.bar(positions,heights,0.5)\n",
    "ax.set_xticks(positions)\n",
    "ax.set_xticklabels(num_cols,rotation=45)\n",
    "plt.title('用户职业分布柱状图')\n",
    "plt.show()"
   ]
  },
  {
   "cell_type": "markdown",
   "metadata": {},
   "source": [
    "#### 年龄"
   ]
  },
  {
   "cell_type": "code",
   "execution_count": 82,
   "metadata": {},
   "outputs": [],
   "source": [
    "df3['C_AGE'] = df3.VC_IDENTITYNO.apply(lambda x:datetime.datetime.now().year-int(x[6:10]))"
   ]
  },
  {
   "cell_type": "code",
   "execution_count": 96,
   "metadata": {},
   "outputs": [
    {
     "data": {
      "text/html": [
       "<div>\n",
       "<style scoped>\n",
       "    .dataframe tbody tr th:only-of-type {\n",
       "        vertical-align: middle;\n",
       "    }\n",
       "\n",
       "    .dataframe tbody tr th {\n",
       "        vertical-align: top;\n",
       "    }\n",
       "\n",
       "    .dataframe thead th {\n",
       "        text-align: right;\n",
       "    }\n",
       "</style>\n",
       "<table border=\"1\" class=\"dataframe\">\n",
       "  <thead>\n",
       "    <tr style=\"text-align: right;\">\n",
       "      <th></th>\n",
       "      <th>VC_CUSTNO</th>\n",
       "      <th>C_CUSTTYPE</th>\n",
       "      <th>VC_CUSTOMNAME</th>\n",
       "      <th>VC_SHORTNAME</th>\n",
       "      <th>C_IDENTITYTYPE</th>\n",
       "      <th>VC_IDENTITYNO</th>\n",
       "      <th>C_MODIFYFLAG</th>\n",
       "      <th>VC_INSTREPRNAME</th>\n",
       "      <th>C_INSTREPRTYPE</th>\n",
       "      <th>VC_INSTREPRNO</th>\n",
       "      <th>...</th>\n",
       "      <th>VC_CAPITALPROPERTY</th>\n",
       "      <th>VC_EQUITYCONTROLCOMPOSITION</th>\n",
       "      <th>C_CUSTINFOCOMPLETE</th>\n",
       "      <th>C_CUSTFUNDTIMELIMITFLAG</th>\n",
       "      <th>C_SCHGFLAG</th>\n",
       "      <th>VC_SCEFFECTDATE</th>\n",
       "      <th>VC_SCEFFECTENDDATE</th>\n",
       "      <th>VC_PRODUCTID</th>\n",
       "      <th>C_NONPERCUSTTYPE</th>\n",
       "      <th>VC_VOCATIONDETAIL</th>\n",
       "    </tr>\n",
       "  </thead>\n",
       "  <tbody>\n",
       "    <tr>\n",
       "      <th>148404</th>\n",
       "      <td>1485388</td>\n",
       "      <td>1</td>\n",
       "      <td>LIAO SHING YU</td>\n",
       "      <td>NaN</td>\n",
       "      <td>6</td>\n",
       "      <td>488854276</td>\n",
       "      <td>1</td>\n",
       "      <td>NaN</td>\n",
       "      <td>NaN</td>\n",
       "      <td>NaN</td>\n",
       "      <td>...</td>\n",
       "      <td>NaN</td>\n",
       "      <td>NaN</td>\n",
       "      <td>1.0</td>\n",
       "      <td>NaN</td>\n",
       "      <td>NaN</td>\n",
       "      <td>NaN</td>\n",
       "      <td>NaN</td>\n",
       "      <td>NaN</td>\n",
       "      <td>NaN</td>\n",
       "      <td>NaN</td>\n",
       "    </tr>\n",
       "  </tbody>\n",
       "</table>\n",
       "<p>1 rows × 158 columns</p>\n",
       "</div>"
      ],
      "text/plain": [
       "        VC_CUSTNO  C_CUSTTYPE  VC_CUSTOMNAME VC_SHORTNAME  C_IDENTITYTYPE  \\\n",
       "148404    1485388           1  LIAO SHING YU          NaN               6   \n",
       "\n",
       "       VC_IDENTITYNO  C_MODIFYFLAG VC_INSTREPRNAME C_INSTREPRTYPE  \\\n",
       "148404     488854276             1             NaN            NaN   \n",
       "\n",
       "       VC_INSTREPRNO        ...          VC_CAPITALPROPERTY  \\\n",
       "148404           NaN        ...                         NaN   \n",
       "\n",
       "        VC_EQUITYCONTROLCOMPOSITION  C_CUSTINFOCOMPLETE  \\\n",
       "148404                          NaN                 1.0   \n",
       "\n",
       "        C_CUSTFUNDTIMELIMITFLAG  C_SCHGFLAG  VC_SCEFFECTDATE  \\\n",
       "148404                      NaN         NaN              NaN   \n",
       "\n",
       "        VC_SCEFFECTENDDATE  VC_PRODUCTID  C_NONPERCUSTTYPE  VC_VOCATIONDETAIL  \n",
       "148404                 NaN           NaN               NaN                NaN  \n",
       "\n",
       "[1 rows x 158 columns]"
      ]
     },
     "execution_count": 96,
     "metadata": {},
     "output_type": "execute_result"
    }
   ],
   "source": [
    "df0.loc[df0['VC_CUSTNO']==1485388] #查看某一行的"
   ]
  },
  {
   "cell_type": "code",
   "execution_count": 93,
   "metadata": {},
   "outputs": [],
   "source": [
    "df4 = df3.drop(148404,axis=0,inplace=False) #通过df3['C_AGE'].describe()查看发现异常值，去除异常值的行"
   ]
  },
  {
   "cell_type": "code",
   "execution_count": 111,
   "metadata": {},
   "outputs": [
    {
     "data": {
      "text/html": [
       "<div>\n",
       "<style scoped>\n",
       "    .dataframe tbody tr th:only-of-type {\n",
       "        vertical-align: middle;\n",
       "    }\n",
       "\n",
       "    .dataframe tbody tr th {\n",
       "        vertical-align: top;\n",
       "    }\n",
       "\n",
       "    .dataframe thead th {\n",
       "        text-align: right;\n",
       "    }\n",
       "</style>\n",
       "<table border=\"1\" class=\"dataframe\">\n",
       "  <thead>\n",
       "    <tr style=\"text-align: right;\">\n",
       "      <th></th>\n",
       "      <th>VC_CUSTNO</th>\n",
       "      <th>C_CUSTTYPE</th>\n",
       "      <th>VC_IDENTITYNO</th>\n",
       "      <th>C_MODIFYFLAG</th>\n",
       "      <th>C_VOCATION</th>\n",
       "      <th>C_SEX</th>\n",
       "      <th>C_INVEST</th>\n",
       "      <th>C_STATE</th>\n",
       "      <th>VC_SPELL</th>\n",
       "      <th>C_WORKTIME</th>\n",
       "      <th>...</th>\n",
       "      <th>VC_BENEFICIARYIDNO</th>\n",
       "      <th>VC_BENEFICIARYIDVALIDATE</th>\n",
       "      <th>C_HOLDIDENTITYTYPE</th>\n",
       "      <th>VC_HOLDIDENTITYNO</th>\n",
       "      <th>VC_HOLDIDVALIDATE</th>\n",
       "      <th>C_BENEFICIARYCUSTTYPE</th>\n",
       "      <th>C_HOLDIDENTITYCUSTTYPE</th>\n",
       "      <th>C_CUSTINFOCOMPLETE</th>\n",
       "      <th>C_CUSTFUNDTIMELIMITFLAG</th>\n",
       "      <th>C_AGE</th>\n",
       "    </tr>\n",
       "  </thead>\n",
       "  <tbody>\n",
       "    <tr>\n",
       "      <th>56988</th>\n",
       "      <td>628358</td>\n",
       "      <td>1</td>\n",
       "      <td>110104192312041617</td>\n",
       "      <td>1</td>\n",
       "      <td>8.0</td>\n",
       "      <td>1.0</td>\n",
       "      <td>NaN</td>\n",
       "      <td>0</td>\n",
       "      <td>mjk</td>\n",
       "      <td>5.0</td>\n",
       "      <td>...</td>\n",
       "      <td>NaN</td>\n",
       "      <td>NaN</td>\n",
       "      <td>NaN</td>\n",
       "      <td>NaN</td>\n",
       "      <td>NaN</td>\n",
       "      <td>NaN</td>\n",
       "      <td>NaN</td>\n",
       "      <td>1.0</td>\n",
       "      <td></td>\n",
       "      <td>96</td>\n",
       "    </tr>\n",
       "    <tr>\n",
       "      <th>92866</th>\n",
       "      <td>1044578</td>\n",
       "      <td>1</td>\n",
       "      <td>440232192703274116</td>\n",
       "      <td>0</td>\n",
       "      <td>NaN</td>\n",
       "      <td>1.0</td>\n",
       "      <td>NaN</td>\n",
       "      <td>0</td>\n",
       "      <td>NaN</td>\n",
       "      <td>NaN</td>\n",
       "      <td>...</td>\n",
       "      <td>NaN</td>\n",
       "      <td>NaN</td>\n",
       "      <td>NaN</td>\n",
       "      <td>NaN</td>\n",
       "      <td>NaN</td>\n",
       "      <td>NaN</td>\n",
       "      <td>NaN</td>\n",
       "      <td>NaN</td>\n",
       "      <td>NaN</td>\n",
       "      <td>92</td>\n",
       "    </tr>\n",
       "    <tr>\n",
       "      <th>51743</th>\n",
       "      <td>574398</td>\n",
       "      <td>1</td>\n",
       "      <td>330321192711280314</td>\n",
       "      <td>0</td>\n",
       "      <td>NaN</td>\n",
       "      <td>1.0</td>\n",
       "      <td>NaN</td>\n",
       "      <td>0</td>\n",
       "      <td>NaN</td>\n",
       "      <td>NaN</td>\n",
       "      <td>...</td>\n",
       "      <td>NaN</td>\n",
       "      <td>NaN</td>\n",
       "      <td>NaN</td>\n",
       "      <td>NaN</td>\n",
       "      <td>NaN</td>\n",
       "      <td>NaN</td>\n",
       "      <td>NaN</td>\n",
       "      <td>NaN</td>\n",
       "      <td>NaN</td>\n",
       "      <td>92</td>\n",
       "    </tr>\n",
       "    <tr>\n",
       "      <th>37494</th>\n",
       "      <td>447728</td>\n",
       "      <td>1</td>\n",
       "      <td>110101192804065018</td>\n",
       "      <td>1</td>\n",
       "      <td>8.0</td>\n",
       "      <td>1.0</td>\n",
       "      <td>NaN</td>\n",
       "      <td>0</td>\n",
       "      <td>ngc</td>\n",
       "      <td>5.0</td>\n",
       "      <td>...</td>\n",
       "      <td>NaN</td>\n",
       "      <td>NaN</td>\n",
       "      <td>NaN</td>\n",
       "      <td>NaN</td>\n",
       "      <td>NaN</td>\n",
       "      <td>NaN</td>\n",
       "      <td>NaN</td>\n",
       "      <td>1.0</td>\n",
       "      <td></td>\n",
       "      <td>91</td>\n",
       "    </tr>\n",
       "    <tr>\n",
       "      <th>68477</th>\n",
       "      <td>787388</td>\n",
       "      <td>1</td>\n",
       "      <td>442525192803015714</td>\n",
       "      <td>1</td>\n",
       "      <td>1.0</td>\n",
       "      <td>1.0</td>\n",
       "      <td>NaN</td>\n",
       "      <td>0</td>\n",
       "      <td>zrq</td>\n",
       "      <td>NaN</td>\n",
       "      <td>...</td>\n",
       "      <td>NaN</td>\n",
       "      <td>NaN</td>\n",
       "      <td>NaN</td>\n",
       "      <td>NaN</td>\n",
       "      <td>NaN</td>\n",
       "      <td>NaN</td>\n",
       "      <td>NaN</td>\n",
       "      <td>NaN</td>\n",
       "      <td>NaN</td>\n",
       "      <td>91</td>\n",
       "    </tr>\n",
       "  </tbody>\n",
       "</table>\n",
       "<p>5 rows × 57 columns</p>\n",
       "</div>"
      ],
      "text/plain": [
       "       VC_CUSTNO  C_CUSTTYPE       VC_IDENTITYNO  C_MODIFYFLAG  C_VOCATION  \\\n",
       "56988     628358           1  110104192312041617             1         8.0   \n",
       "92866    1044578           1  440232192703274116             0         NaN   \n",
       "51743     574398           1  330321192711280314             0         NaN   \n",
       "37494     447728           1  110101192804065018             1         8.0   \n",
       "68477     787388           1  442525192803015714             1         1.0   \n",
       "\n",
       "       C_SEX  C_INVEST  C_STATE VC_SPELL  C_WORKTIME  ...    \\\n",
       "56988    1.0       NaN        0      mjk         5.0  ...     \n",
       "92866    1.0       NaN        0      NaN         NaN  ...     \n",
       "51743    1.0       NaN        0      NaN         NaN  ...     \n",
       "37494    1.0       NaN        0      ngc         5.0  ...     \n",
       "68477    1.0       NaN        0      zrq         NaN  ...     \n",
       "\n",
       "       VC_BENEFICIARYIDNO VC_BENEFICIARYIDVALIDATE  C_HOLDIDENTITYTYPE  \\\n",
       "56988                 NaN                      NaN                 NaN   \n",
       "92866                 NaN                      NaN                 NaN   \n",
       "51743                 NaN                      NaN                 NaN   \n",
       "37494                 NaN                      NaN                 NaN   \n",
       "68477                 NaN                      NaN                 NaN   \n",
       "\n",
       "       VC_HOLDIDENTITYNO VC_HOLDIDVALIDATE C_BENEFICIARYCUSTTYPE  \\\n",
       "56988                NaN               NaN                   NaN   \n",
       "92866                NaN               NaN                   NaN   \n",
       "51743                NaN               NaN                   NaN   \n",
       "37494                NaN               NaN                   NaN   \n",
       "68477                NaN               NaN                   NaN   \n",
       "\n",
       "      C_HOLDIDENTITYCUSTTYPE C_CUSTINFOCOMPLETE  C_CUSTFUNDTIMELIMITFLAG  \\\n",
       "56988                    NaN                1.0                            \n",
       "92866                    NaN                NaN                      NaN   \n",
       "51743                    NaN                NaN                      NaN   \n",
       "37494                    NaN                1.0                            \n",
       "68477                    NaN                NaN                      NaN   \n",
       "\n",
       "       C_AGE  \n",
       "56988     96  \n",
       "92866     92  \n",
       "51743     92  \n",
       "37494     91  \n",
       "68477     91  \n",
       "\n",
       "[5 rows x 57 columns]"
      ]
     },
     "execution_count": 111,
     "metadata": {},
     "output_type": "execute_result"
    }
   ],
   "source": [
    "df4.sort_values(by='C_AGE',ascending=False).head() #排序"
   ]
  },
  {
   "cell_type": "code",
   "execution_count": null,
   "metadata": {},
   "outputs": [],
   "source": [
    "df4.C_AGE.value_counts()"
   ]
  },
  {
   "cell_type": "markdown",
   "metadata": {},
   "source": [
    "#### 年龄一元直方图"
   ]
  },
  {
   "cell_type": "code",
   "execution_count": 129,
   "metadata": {
    "scrolled": false
   },
   "outputs": [
    {
     "data": {
      "image/png": "[encoded data removed]",
      "text/plain": [
       "<Figure size 432x288 with 1 Axes>"
      ]
     },
     "metadata": {},
     "output_type": "display_data"
    }
   ],
   "source": [
    "# hist函数的参数解读\n",
    "\n",
    "# 绘图之前，我们先来讲解一下matplotlib包中hist函数的参数含义及使用方法：\n",
    "\n",
    "# plt.hist(x, bins= 10, range= None, normed= False, weights= None, cumulative= False, bottom= None, histtype= 'bar', align= 'mid', orientation= 'vertical', rwidth= None, log= False, color= None, label= None, stacked= False)\n",
    "\n",
    "# x：指定要绘制直方图的数据；\n",
    "\n",
    "# bins：指定直方图条形的个数；\n",
    "\n",
    "# range：指定直方图数据的上下界，默认包含绘图数据的最大值和最小值；\n",
    "\n",
    "# normed：是否将直方图的频数转换成频率；\n",
    "\n",
    "# weights：该参数可为每一个数据点设置权重；\n",
    "\n",
    "# cumulative：是否需要计算累计频数或频率；\n",
    "\n",
    "# bottom：可以为直方图的每个条形添加基准线，默认为0；\n",
    "\n",
    "# histtype：指定直方图的类型，默认为bar，除此还有’barstacked’, ‘step’, ‘stepfilled’；\n",
    "\n",
    "# align：设置条形边界值的对其方式，默认为mid，除此还有’left’和’right’；\n",
    "\n",
    "# orientation：设置直方图的摆放方向，默认为垂直方向；\n",
    "\n",
    "# rwidth：设置直方图条形宽度的百分比；\n",
    "\n",
    "# log：是否需要对绘图数据进行log变换；\n",
    "\n",
    "# color：设置直方图的填充色；\n",
    "\n",
    "# label：设置直方图的标签，可通过legend展示其图例；\n",
    "\n",
    "# stacked：当有多个数据时，是否需要将直方图呈堆叠摆放，默认水平摆放；\n",
    "\n",
    "# plt.hist(df4.C_AGE,bins=np.arange(df4.C_AGE.min,df4.C_AGE.max,3),color='steelblue',label='直方图')\n",
    "plt.hist(df4.C_AGE,bins=np.arange(df4.C_AGE.min(),df4.C_AGE.max(),1),color='steelblue',label='直方图')\n",
    "# 设置图形的显示风格\n",
    "plt.style.use( 'ggplot')\n",
    "plt.title('用户年龄直方图')\n",
    "plt.xlabel('年龄')\n",
    "plt.ylabel('人数')\n",
    "# 显示图例\n",
    "plt.legend()\n",
    "# 显示图形\n",
    "plt.show()"
   ]
  },
  {
   "cell_type": "markdown",
   "metadata": {},
   "source": [
    "#### 年龄二元直方图"
   ]
  },
  {
   "cell_type": "code",
   "execution_count": 136,
   "metadata": {},
   "outputs": [
    {
     "data": {
      "image/png": "[encoded data removed]",
      "text/plain": [
       "<Figure size 432x288 with 1 Axes>"
      ]
     },
     "metadata": {},
     "output_type": "display_data"
    }
   ],
   "source": [
    "age_female = df4.C_AGE[df4.C_SEX == 0.0]\n",
    "age_male = df4.C_AGE[df4.C_SEX == 1.0]\n",
    "\n",
    "# 男性乘客年龄直方图\n",
    "plt.hist(age_male, bins = np.arange(df4.C_AGE.min(),df4.C_AGE.max(),1), label = '男性', color = 'steelblue', alpha = 0.7)\n",
    "# 女性乘客年龄直方图\n",
    "plt.hist(age_female, bins = np.arange(df4.C_AGE.min(),df4.C_AGE.max(),1), label = '女性', alpha = 0.6)\n",
    "\n",
    "# 设置图形的显示风格\n",
    "plt.style.use( 'ggplot')\n",
    "plt.title('用户年龄性别直方图')\n",
    "plt.xlabel('年龄')\n",
    "plt.ylabel('人数')\n",
    "# 显示图例\n",
    "plt.legend()\n",
    "# 显示图形\n",
    "plt.show()"
   ]
  },
  {
   "cell_type": "code",
   "execution_count": 134,
   "metadata": {},
   "outputs": [
    {
     "data": {
      "text/plain": [
       "2         37\n",
       "5         39\n",
       "6         48\n",
       "7         34\n",
       "8         32\n",
       "10        33\n",
       "11        36\n",
       "13        45\n",
       "17        29\n",
       "18        34\n",
       "19        33\n",
       "21        33\n",
       "22        36\n",
       "24        27\n",
       "26        41\n",
       "27        43\n",
       "28        45\n",
       "29        30\n",
       "30        56\n",
       "31        44\n",
       "32        38\n",
       "33        35\n",
       "40        31\n",
       "43        34\n",
       "44        39\n",
       "45        42\n",
       "46        34\n",
       "48        39\n",
       "49        43\n",
       "52        41\n",
       "          ..\n",
       "153733    40\n",
       "153734    42\n",
       "153736    69\n",
       "153737    39\n",
       "153740    28\n",
       "153741    32\n",
       "153742    33\n",
       "153743    41\n",
       "153744    43\n",
       "153745    28\n",
       "153746    45\n",
       "153747    49\n",
       "153748    29\n",
       "153750    45\n",
       "153751    42\n",
       "153752    47\n",
       "153753    38\n",
       "153754    44\n",
       "153755    52\n",
       "153756    55\n",
       "153757    34\n",
       "153758    47\n",
       "153760    38\n",
       "153761    32\n",
       "153762    27\n",
       "153766    44\n",
       "153767    41\n",
       "153768    39\n",
       "153769    45\n",
       "153770    27\n",
       "Name: C_AGE, Length: 99996, dtype: int64"
      ]
     },
     "execution_count": 134,
     "metadata": {},
     "output_type": "execute_result"
    }
   ],
   "source": [
    "age_female"
   ]
  },
  {
   "cell_type": "code",
   "execution_count": null,
   "metadata": {},
   "outputs": [],
   "source": []
  }
 ],
 "metadata": {
  "kernelspec": {
   "display_name": "Python 3",
   "language": "python",
   "name": "python3"
  },
  "language_info": {
   "codemirror_mode": {
    "name": "ipython",
    "version": 3
   },
   "file_extension": ".py",
   "mimetype": "text/x-python",
   "name": "python",
   "nbconvert_exporter": "python",
   "pygments_lexer": "ipython3",
   "version": "3.7.1"
  }
 },
 "nbformat": 4,
 "nbformat_minor": 2
}
